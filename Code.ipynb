{
 "cells": [
  {
   "cell_type": "code",
   "execution_count": 1,
   "metadata": {},
   "outputs": [],
   "source": [
    "import pandas as pd\n",
    "import numpy as np\n",
    "import matplotlib.pyplot as plt\n",
    "from sklearn.model_selection import train_test_split\n",
    "from sklearn.linear_model import LinearRegression\n",
    "from sklearn.linear_model import LogisticRegression\n",
    "from sklearn.preprocessing import StandardScaler\n",
    "from sklearn import metrics\n",
    "from sklearn.metrics import accuracy_score\n",
    "from sklearn.decomposition import PCA"
   ]
  },
  {
   "cell_type": "code",
   "execution_count": 2,
   "metadata": {},
   "outputs": [],
   "source": [
    "# Loading dataset\n",
    "dataset = pd.read_csv(\"Pima_Indian_diabetes.csv\")"
   ]
  },
  {
   "cell_type": "code",
   "execution_count": 3,
   "metadata": {},
   "outputs": [],
   "source": [
    "# Converting all negative values into NONEs, since negative values are not valid in given data\n",
    "dataset[dataset<0]=np.nan\n",
    "# Converting zeros of specific features into NONEs\n",
    "dataset['Insulin']=dataset['Insulin'].replace(0,np.nan)\n",
    "dataset['Glucose']=dataset['Glucose'].replace(0,np.nan)\n",
    "dataset['BMI']=dataset['BMI'].replace(0,np.nan)\n",
    "dataset['DiabetesPedigreeFunction']=dataset['DiabetesPedigreeFunction'].replace(0,np.nan)\n",
    "dataset['SkinThickness']=dataset['SkinThickness'].replace(0,np.nan)\n",
    "dataset['BloodPressure']=dataset['BloodPressure'].replace(0,np.nan)\n",
    "dataset['Age']=dataset['Age'].replace(0,np.nan)"
   ]
  },
  {
   "cell_type": "code",
   "execution_count": 4,
   "metadata": {},
   "outputs": [],
   "source": [
    "# Removes the row with less than 6 non-null values\n",
    "dataset.dropna(thresh=5,inplace = True)"
   ]
  },
  {
   "cell_type": "code",
   "execution_count": 5,
   "metadata": {},
   "outputs": [],
   "source": [
    "# Function to add random error to the values used to fill the NONEs\n",
    "def generate_vector(temp_min,temp_max,given,num_value):\n",
    "    np.random.seed(1)\n",
    "    min = given + temp_min\n",
    "    max = given + temp_max\n",
    "    return np.random.uniform(min,max,num_value)"
   ]
  },
  {
   "cell_type": "code",
   "execution_count": 6,
   "metadata": {},
   "outputs": [],
   "source": [
    "# Filling NONEs of the feature 'Pregnancies' \n",
    "pd.set_option('mode.chained_assignment', None)\n",
    "var_preg = generate_vector(-1,1,dataset['Pregnancies'].median(),dataset['Pregnancies'].isnull().sum())\n",
    "dataset['Pregnancies'].loc[dataset[dataset.Pregnancies.isna()].index] = var_preg\n",
    "dataset['Pregnancies'].round\n",
    "\n",
    "# Removing outliers from the feature 'Pregnancies'\n",
    "dataset = dataset[dataset.Pregnancies<13]"
   ]
  },
  {
   "cell_type": "code",
   "execution_count": 7,
   "metadata": {},
   "outputs": [],
   "source": [
    "# Grouping specific features with outcome\n",
    "test_data = pd.DataFrame(index=range(0,768),columns=['Pregnancies','Glucose','BloodPressure','SkinThickness','Insulin','BMI','DiabetesPedigreeFunction','Age'])\n",
    "test_data = dataset\n",
    "test_data1 = pd.DataFrame(index=range(0,768),columns=['Pregnancies','Glucose','BloodPressure','SkinThickness','Insulin','BMI','DiabetesPedigreeFunction','Age'])\n",
    "test_data1 = dataset\n",
    "test_data2 = pd.DataFrame(index=range(0,768),columns=['Pregnancies','Glucose','BloodPressure','SkinThickness','Insulin','BMI','DiabetesPedigreeFunction','Age'])\n",
    "test_data2 = dataset\n",
    "\n",
    "test_data = test_data[test_data.Insulin!=0]\n",
    "test_data1 = test_data1[test_data1.Glucose!=0]\n",
    "test_data2 = test_data2[test_data2.DiabetesPedigreeFunction!=0]\n",
    "i = test_data.groupby(['Outcome'])\n",
    "g = test_data1.groupby(['Outcome'])\n",
    "d = test_data2.groupby(['Outcome'])\n",
    "ins=i['Insulin'].agg(pd.Series.mode)\n",
    "glu1 = g['Glucose'].agg(pd.Series.mode)\n",
    "glu2 = g['Glucose'].mean()\n",
    "dia = d['DiabetesPedigreeFunction'].agg(pd.Series.mode)\n"
   ]
  },
  {
   "cell_type": "code",
   "execution_count": 8,
   "metadata": {},
   "outputs": [],
   "source": [
    "# Filling NONEs of the features 'Glucose', 'Insulin', 'DiabetesPedigreeFunction'\n",
    "temp_outcome = dataset['Outcome']\n",
    "for j in temp_outcome:\n",
    "    if j==0:\n",
    "        dataset.Insulin = dataset.Insulin.fillna(ins[0])\n",
    "        dataset.Glucose = dataset.Glucose.fillna(glu1[0])\n",
    "        dataset.DiabetesPedigreeFunction = dataset.DiabetesPedigreeFunction.fillna(dia[0])\n",
    "    elif j==1:\n",
    "        dataset.Insulin = dataset.Insulin.fillna(ins[1])\n",
    "        dataset.Glucose = dataset.Glucose.fillna(glu2[1])\n",
    "        dataset.DiabetesPedigreeFunction = dataset.DiabetesPedigreeFunction.fillna(dia[1])"
   ]
  },
  {
   "cell_type": "code",
   "execution_count": 9,
   "metadata": {},
   "outputs": [],
   "source": [
    "# Filling NONEs of the feature 'SkinThickness'\n",
    "var_skin = generate_vector(-9,6,dataset['SkinThickness'].mode(),dataset['SkinThickness'].isnull().sum())\n",
    "dataset['SkinThickness'].loc[dataset[dataset.SkinThickness.isna()].index]= var_skin\n",
    "\n",
    "# Removing outliers from the feature 'SkinThickness'\n",
    "dataset = dataset[dataset.SkinThickness<63]"
   ]
  },
  {
   "cell_type": "code",
   "execution_count": 10,
   "metadata": {},
   "outputs": [],
   "source": [
    "# Filling NONEs of the feature 'Age'\n",
    "dataset['Age'] = dataset['Age'].fillna(dataset['Age'].mean())"
   ]
  },
  {
   "cell_type": "code",
   "execution_count": 11,
   "metadata": {},
   "outputs": [],
   "source": [
    "# Creating an instance for the function LinearRegression\n",
    "lin_reg = LinearRegression()"
   ]
  },
  {
   "cell_type": "code",
   "execution_count": 12,
   "metadata": {},
   "outputs": [],
   "source": [
    "# Filling NONEs of the feature 'BMI' using linear regression\n",
    "data_with_null = dataset[['Pregnancies','Glucose','BloodPressure','SkinThickness','Insulin','BMI','DiabetesPedigreeFunction','Age']]\n",
    "data_without_null = data_with_null.dropna()\n",
    "x = data_without_null.loc[:,['SkinThickness']]\n",
    "y = data_without_null.iloc[:,5]\n",
    "#fitting SkinThickness feature into linear regression to predict BMI\n",
    "lin_reg.fit(x,y)\n",
    "test_data = pd.DataFrame(index=range(0,768),columns=['Pregnancies','Glucose','BloodPressure','SkinThickness','Insulin','BMI','DiabetesPedigreeFunction','Age'])\n",
    "test_data['BMI'] = pd.DataFrame(lin_reg.predict(data_with_null.loc[:,['SkinThickness']]))\n",
    "dataset.BMI.fillna(test_data.BMI,inplace=True)\n",
    "\n",
    "# Removing outliers from the feature 'BMI'\n",
    "dataset = dataset[dataset.BMI>13]\n",
    "dataset = dataset[dataset.BMI<50]\n"
   ]
  },
  {
   "cell_type": "code",
   "execution_count": 13,
   "metadata": {},
   "outputs": [],
   "source": [
    "# Filling NONEs of the feature 'BloodPressure' using linear regression\n",
    "data_with_null = dataset[['Pregnancies','Glucose','BloodPressure','SkinThickness','Insulin','BMI','DiabetesPedigreeFunction','Age']]\n",
    "data_without_null = data_with_null.dropna()\n",
    "x = data_without_null.loc[:,['BMI','Age']]\n",
    "y = data_without_null.iloc[:,2]\n",
    "#fitting BMI and Age featuers into linear regression to predict BloodPressure\n",
    "lin_reg.fit(x,y)\n",
    "test_data = pd.DataFrame(index=range(0,768),columns=['Pregnancies','Glucose','BloodPressure','SkinThickness','Insulin','BMI','DiabetesPedigreeFunction','Age'])\n",
    "test_data['BloodPressure'] = pd.DataFrame(lin_reg.predict(data_with_null.loc[:,['BMI','Age']]))\n",
    "dataset.BloodPressure.fillna(test_data.BloodPressure,inplace=True)\n",
    "\n",
    "# Removing outliers from the feature 'BloodPressure'\n",
    "dataset = dataset[dataset.BloodPressure>40]\n",
    "dataset = dataset[dataset.BloodPressure<105]\n"
   ]
  },
  {
   "cell_type": "code",
   "execution_count": 14,
   "metadata": {},
   "outputs": [],
   "source": [
    "# Normalizing the Dataset\n",
    "dataset = (dataset-dataset.min())/(dataset.max()-dataset.min())"
   ]
  },
  {
   "cell_type": "code",
   "execution_count": 15,
   "metadata": {},
   "outputs": [],
   "source": [
    "# Dividing the dataset for feature extraction\n",
    "x = dataset[['Pregnancies','Glucose','BloodPressure','SkinThickness','Insulin','BMI','DiabetesPedigreeFunction','Age',]]\n",
    "y = dataset['Outcome']\n",
    "# Creating an instance for the function logistic regression\n",
    "log_reg = LogisticRegression(solver = 'lbfgs')"
   ]
  },
  {
   "cell_type": "code",
   "execution_count": 16,
   "metadata": {},
   "outputs": [],
   "source": [
    "# Implementing PCA for feature extraction\n",
    "# pca = PCA(n_components=3)\n",
    "# x = pca.fit_transform(x)"
   ]
  },
  {
   "cell_type": "code",
   "execution_count": 17,
   "metadata": {},
   "outputs": [
    {
     "data": {
      "text/plain": [
       "0.821917808219178"
      ]
     },
     "execution_count": 17,
     "metadata": {},
     "output_type": "execute_result"
    }
   ],
   "source": [
    "# Splitting the data into training set and testing set\n",
    "x_train,x_test,y_train,y_test = train_test_split(x,y,test_size = 0.2,random_state = 4)\n",
    "\n",
    "#fitting testing data into logistic regression model\n",
    "log_reg.fit(x_train,y_train)\n",
    "pred = log_reg.predict(x_test)\n",
    "\n",
    "# Calculating the accuracy of 'Outcome'\n",
    "accuracy_score(y_test,pred)"
   ]
  }
 ],
 "metadata": {
  "kernelspec": {
   "display_name": "Python 3",
   "language": "python",
   "name": "python3"
  },
  "language_info": {
   "codemirror_mode": {
    "name": "ipython",
    "version": 3
   },
   "file_extension": ".py",
   "mimetype": "text/x-python",
   "name": "python",
   "nbconvert_exporter": "python",
   "pygments_lexer": "ipython3",
   "version": "3.7.3"
  }
 },
 "nbformat": 4,
 "nbformat_minor": 2
}
